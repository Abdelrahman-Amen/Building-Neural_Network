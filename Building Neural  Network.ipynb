{
 "cells": [
  {
   "cell_type": "code",
   "execution_count": 18,
   "id": "588a0c59",
   "metadata": {},
   "outputs": [
    {
     "name": "stdout",
     "output_type": "stream",
     "text": [
      "the expected value is: [[0.0042784 ]\n",
      " [0.99635033]\n",
      " [0.99468579]\n",
      " [0.00475275]]\n"
     ]
    }
   ],
   "source": [
    "import numpy as np\n",
    "     \n",
    "def sigmoid(z):\n",
    "        return 1/(1+np.exp(-z)) \n",
    "    \n",
    "def sigmoid_derivative(z):\n",
    "        return z*(1-z)      \n",
    "\n",
    "class NeuralNetwork:\n",
    "    def __init__(self,x,y):\n",
    "        self.input=x\n",
    "        self.weight1=np.random.rand(self.input.shape[1],4)\n",
    "        self.weight2=np.random.rand(4,1)\n",
    "        self.y=y\n",
    "        self.activation=np.zeros(self.y.shape)\n",
    "   \n",
    "\n",
    "\n",
    "    def feedforward(self):\n",
    "        self.layer1=sigmoid(np.dot(self.input,self.weight1))\n",
    "        self.activation=sigmoid(np.dot(self.layer1,self.weight2))\n",
    "          \n",
    "            \n",
    "        \n",
    "    def backward(self):\n",
    "        d_weights2 = np.dot(self.layer1.T, (2*(self.y - self.activation) * sigmoid_derivative(self.activation)))\n",
    "         \n",
    "        d_weights1 = np.dot(self.input.T,\n",
    "                            (np.dot(2*(self.y - self.activation) * sigmoid_derivative(self.activation),\n",
    "                                    self.weight2.T) * sigmoid_derivative(self.layer1)))\n",
    "       \n",
    "        self.weight1 += d_weights1\n",
    "        self.weight2 += d_weights2\n",
    "        \n",
    "        \n",
    "    \n",
    "    \n",
    "    \n",
    "\n",
    "\n",
    "        \n",
    "        \n",
    "x = np.array([[0,0,1],\n",
    "              [0,1,1],\n",
    "              [1,0,1],\n",
    "              [1,1,1]])\n",
    "\n",
    "y = np.array([[0],\n",
    "              [1],\n",
    "              [1],\n",
    "              [0]])\n",
    "\n",
    "\n",
    "n=NeuralNetwork(x,y)\n",
    "\n",
    "for i in range(20000):\n",
    "    n.feedforward()\n",
    "    n.backward()\n",
    "    \n",
    "print(\"the expected value is:\",n.activation)\n",
    "        \n",
    " "
   ]
  }
 ],
 "metadata": {
  "kernelspec": {
   "display_name": "Python 3 (ipykernel)",
   "language": "python",
   "name": "python3"
  },
  "language_info": {
   "codemirror_mode": {
    "name": "ipython",
    "version": 3
   },
   "file_extension": ".py",
   "mimetype": "text/x-python",
   "name": "python",
   "nbconvert_exporter": "python",
   "pygments_lexer": "ipython3",
   "version": "3.9.12"
  }
 },
 "nbformat": 4,
 "nbformat_minor": 5
}
